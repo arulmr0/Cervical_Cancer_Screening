{
 "cells": [
  {
   "cell_type": "code",
   "execution_count": 1,
   "id": "b0a2d302",
   "metadata": {
    "pycharm": {
     "name": "#%%\n"
    }
   },
   "outputs": [],
   "source": [
    "#importing the required packages\n",
    "import numpy as np\n",
    "import pandas as pd\n",
    "import tensorflow as tf\n",
    "import matplotlib.pyplot as plt\n",
    "from tensorflow.keras.preprocessing.image import ImageDataGenerator\n",
    "from tensorflow.keras.layers import Conv2D, MaxPooling2D, Flatten, Dense, Dropout,BatchNormalization\n",
    "from tensorflow.keras.models import Sequential\n",
    "from tensorflow.keras.metrics import Precision, Recall, BinaryAccuracy,AUC\n",
    "from tensorflow.keras.models import load_model\n",
    "from tensorflow.keras.regularizers import l2\n",
    "from sklearn.metrics import confusion_matrix,roc_auc_score,roc_curve\n",
    "import itertools\n",
    "import cv2\n",
    "import scipy.integrate as integrate\n",
    "import scipy\n",
    "from tensorflow.keras.applications import VGG16\n",
    "#from keras.applications.resnet50 import ResNet50\n",
    "from tensorflow.keras.applications import ResNet50,ResNet101\n",
    "import os"
   ]
  },
  {
   "cell_type": "markdown",
   "id": "68c5b543",
   "metadata": {
    "pycharm": {
     "name": "#%% md\n"
    }
   },
   "source": [
    "# Importing Images"
   ]
  },
  {
   "cell_type": "code",
   "execution_count": 3,
   "id": "8e502e80",
   "metadata": {
    "collapsed": false,
    "jupyter": {
     "outputs_hidden": false
    },
    "pycharm": {
     "name": "#%%\n"
    }
   },
   "outputs": [],
   "source": [
    "data_dir = 'train'  # path to the folder containing the dataset\n",
    "test_dir = 'test'\n",
    "img_width = 256  # width of the images\n",
    "img_height = 256  # height of the images\n",
    "batch_size = 32  # batch size for training"
   ]
  },
  {
   "cell_type": "markdown",
   "id": "a30bfacc-7688-4dd4-af53-ef53ea4e6262",
   "metadata": {},
   "source": [
    "# Removing Corrupted Images"
   ]
  },
  {
   "cell_type": "code",
   "execution_count": 4,
   "id": "1285f38a",
   "metadata": {
    "pycharm": {
     "name": "#%%\n"
    }
   },
   "outputs": [],
   "source": [
    "def remove_corrupted_images():\n",
    "    for folder in os.listdir(data_dir):\n",
    "        folder_path = os.path.join(data_dir, folder)\n",
    "        for filename in os.listdir(folder_path):\n",
    "            file_path = os.path.join(folder_path, filename)\n",
    "            try:\n",
    "                img = tf.keras.preprocessing.image.load_img(file_path, target_size=(img_width, img_height))\n",
    "                img_arr = tf.keras.preprocessing.image.img_to_array(img)\n",
    "            except:\n",
    "                os.remove(file_path)"
   ]
  },
  {
   "cell_type": "code",
   "execution_count": 6,
   "id": "f15f8c44",
   "metadata": {
    "pycharm": {
     "name": "#%%\n"
    }
   },
   "outputs": [],
   "source": [
    "remove_corrupted_images()"
   ]
  },
  {
   "cell_type": "code",
   "execution_count": 7,
   "id": "9eb0a1c1",
   "metadata": {
    "pycharm": {
     "name": "#%%\n"
    }
   },
   "outputs": [],
   "source": [
    "def remove_corrupted_test():\n",
    "    for folder in os.listdir(test_dir):\n",
    "        folder_path = os.path.join(test_dir, folder)\n",
    "        for filename in os.listdir(folder_path):\n",
    "            file_path = os.path.join(folder_path, filename)\n",
    "            try:\n",
    "                img = tf.keras.preprocessing.image.load_img(file_path, target_size=(img_width, img_height))\n",
    "                img_arr = tf.keras.preprocessing.image.img_to_array(img)\n",
    "            except:\n",
    "                os.remove(file_path)"
   ]
  },
  {
   "cell_type": "code",
   "execution_count": 8,
   "id": "84c1693c",
   "metadata": {
    "pycharm": {
     "name": "#%%\n"
    }
   },
   "outputs": [],
   "source": [
    "remove_corrupted_test()"
   ]
  },
  {
   "cell_type": "markdown",
   "id": "9115cbc5",
   "metadata": {
    "pycharm": {
     "name": "#%% md\n"
    }
   },
   "source": [
    "# Spliting the datasets"
   ]
  },
  {
   "cell_type": "code",
   "execution_count": 9,
   "id": "9d6d9168",
   "metadata": {
    "pycharm": {
     "name": "#%%\n"
    }
   },
   "outputs": [
    {
     "name": "stdout",
     "output_type": "stream",
     "text": [
      "Found 3492 images belonging to 3 classes.\n",
      "Found 871 images belonging to 3 classes.\n",
      "Found 90 images belonging to 3 classes.\n"
     ]
    }
   ],
   "source": [
    "train_datagen = ImageDataGenerator(rescale=1./255, validation_split=0.2)\n",
    "train_set = train_datagen.flow_from_directory(data_dir,\n",
    "                                              target_size=(img_width, img_height),\n",
    "                                              batch_size=batch_size,\n",
    "                                              class_mode='categorical',\n",
    "                                              subset='training')\n",
    "valid_set = train_datagen.flow_from_directory(data_dir, target_size=(img_width, img_height),\n",
    "                                              batch_size=batch_size,\n",
    "                                              class_mode='categorical',\n",
    "                                              subset='validation')\n",
    "test_datagen = ImageDataGenerator(rescale=1./255)\n",
    "test_set = test_datagen.flow_from_directory(test_dir, target_size=(img_width, img_height),\n",
    "                                            batch_size=batch_size,\n",
    "                                            class_mode='categorical',\n",
    "                                            shuffle=False)"
   ]
  },
  {
   "cell_type": "markdown",
   "id": "066d4369",
   "metadata": {
    "pycharm": {
     "name": "#%% md\n"
    }
   },
   "source": [
    "# Building the Deep Learning Classification model"
   ]
  },
  {
   "cell_type": "code",
   "execution_count": 10,
   "id": "5b92dbca",
   "metadata": {
    "pycharm": {
     "name": "#%%\n"
    }
   },
   "outputs": [],
   "source": [
    "model = Sequential()\n",
    "#CONV 1\n",
    "model.add(Conv2D(filters= 32,kernel_size= (3, 3),strides=(3,3),padding='valid', activation='relu', input_shape=(img_width, img_height, 3))) #32 kernels/filters , kernel_size 3x3\n",
    "model.add(MaxPooling2D(pool_size= (2, 2)))\n",
    "model.add(BatchNormalization())\n",
    "\n",
    "\n",
    "#CONV 2\n",
    "model.add(Conv2D(filters=64,kernel_size= (3, 3),padding='same', activation='relu',strides=(1,1),kernel_regularizer=l2(0.0005))) #increased the depth to 64\n",
    "model.add(MaxPooling2D(pool_size=(2, 2),strides=(2,2)))\n",
    "model.add(BatchNormalization())\n",
    "\n",
    "\n",
    "#CONV 3\n",
    "model.add(Conv2D(filters=64, kernel_size=(3, 3),padding='same', activation='relu',strides=(1,1),kernel_regularizer=l2(0.0005))) #increased the depth to 64\n",
    "model.add(MaxPooling2D(pool_size=(2, 2),strides=(2,2)))\n",
    "\n",
    "\n",
    "#CONV 4\n",
    "model.add(Conv2D(filters=128,kernel_size= (3, 3),padding='same', activation='relu',strides=(1,1),kernel_regularizer=l2(0.0005)))\n",
    "model.add(MaxPooling2D(pool_size=(2, 2),strides=(2,2)))\n",
    "model.add(BatchNormalization())\n",
    "\n",
    "\n",
    "#CONV 5\n",
    "model.add(Conv2D(filters=128, kernel_size=(3, 3),padding='same', activation='relu',strides=(1,1),kernel_regularizer=l2(0.0005)))\n",
    "model.add(MaxPooling2D(pool_size=(2, 2),strides=(2,2)))\n",
    "model.add(BatchNormalization())\n",
    "\n",
    "#CONV 6\n",
    "model.add(Conv2D(filters=256, kernel_size=(3, 3),padding='same', activation='relu',strides=(1,1),kernel_regularizer=l2(0.0005)))\n",
    "model.add(MaxPooling2D(pool_size=(2, 2),strides=(2,2)))\n",
    "model.add(BatchNormalization())\n",
    "\n",
    "#CONV 7\n",
    "model.add(Conv2D(filters=512, kernel_size=(3, 3),padding='same', activation='relu',strides=(1,1),kernel_regularizer=l2(0.0005)))\n",
    "model.add(BatchNormalization())\n",
    "\n",
    "model.add(Flatten())  #flattern, since there are too many dimensions; we only want a classification output\n",
    "\n",
    "#CONV 8\n",
    "model.add(Dense(units= 512, activation='relu')) #FC1: Fully connects to get all relevant data\n",
    "model.add(Dropout(0.5))\n",
    "\n",
    "\n",
    "model.add(Dense(units=3, activation='softmax')) #FC2: Outputs a softmax to squash the matrix into output probabilities for the 3 classes"
   ]
  },
  {
   "cell_type": "markdown",
   "id": "497fdc88",
   "metadata": {
    "pycharm": {
     "name": "#%% md\n"
    }
   },
   "source": [
    "# VGG16"
   ]
  },
  {
   "cell_type": "code",
   "execution_count": 8,
   "id": "9931d21c",
   "metadata": {
    "collapsed": false,
    "jupyter": {
     "outputs_hidden": false
    },
    "pycharm": {
     "name": "#%%\n"
    }
   },
   "outputs": [],
   "source": [
    "# Load pre-trained VGG16 model\n",
    "vgg16 = VGG16(weights='imagenet', include_top=False, input_shape=(img_width, img_height, 3))\n",
    "\n",
    "# Freeze pre-trained layers in VGG16\n",
    "for layer in vgg16.layers:\n",
    "    layer.trainable = False\n",
    "\n",
    "# Create new model with VGG16 as base\n",
    "model = Sequential()\n",
    "model.add(vgg16)\n",
    "\n",
    "# Add custom layers for classification\n",
    "model.add(Flatten())\n",
    "model.add(Dense(units=512, activation='relu'))\n",
    "model.add(Dropout(0.2))\n",
    "model.add(Dense(units=3, activation='softmax'))"
   ]
  },
  {
   "cell_type": "markdown",
   "id": "354afad4",
   "metadata": {
    "pycharm": {
     "name": "#%% md\n"
    }
   },
   "source": [
    "# ResNet50"
   ]
  },
  {
   "cell_type": "code",
   "execution_count": 15,
   "id": "cffbf622",
   "metadata": {
    "collapsed": false,
    "jupyter": {
     "outputs_hidden": false
    },
    "pycharm": {
     "name": "#%%\n"
    }
   },
   "outputs": [],
   "source": [
    "# Load pre-trained ResNet50 model\n",
    "resnet101 = ResNet101(weights='imagenet', include_top=False, input_shape=(img_width, img_height, 3))\n",
    "\n",
    "# Freeze pre-trained layers in ResNet50\n",
    "for layer in resnet101.layers:\n",
    "    layer.trainable = False\n",
    "\n",
    "# Create new model with ResNet50 as base\n",
    "model = Sequential()\n",
    "model.add(resnet101)\n",
    "\n",
    "# Add custom layers for classification\n",
    "model.add(Flatten())\n",
    "model.add(Dense(units=1000, activation='relu'))\n",
    "model.add(Dropout(0.2))\n",
    "model.add(Dense(units=3, activation='softmax'))"
   ]
  },
  {
   "cell_type": "code",
   "execution_count": 11,
   "id": "602a0804",
   "metadata": {
    "collapsed": false,
    "jupyter": {
     "outputs_hidden": false
    },
    "pycharm": {
     "name": "#%%\n"
    }
   },
   "outputs": [
    {
     "name": "stdout",
     "output_type": "stream",
     "text": [
      "Model: \"sequential\"\n",
      "_________________________________________________________________\n",
      " Layer (type)                Output Shape              Param #   \n",
      "=================================================================\n",
      " conv2d (Conv2D)             (None, 85, 85, 32)        896       \n",
      "                                                                 \n",
      " max_pooling2d (MaxPooling2D  (None, 42, 42, 32)       0         \n",
      " )                                                               \n",
      "                                                                 \n",
      " batch_normalization (BatchN  (None, 42, 42, 32)       128       \n",
      " ormalization)                                                   \n",
      "                                                                 \n",
      " conv2d_1 (Conv2D)           (None, 42, 42, 64)        18496     \n",
      "                                                                 \n",
      " max_pooling2d_1 (MaxPooling  (None, 21, 21, 64)       0         \n",
      " 2D)                                                             \n",
      "                                                                 \n",
      " batch_normalization_1 (Batc  (None, 21, 21, 64)       256       \n",
      " hNormalization)                                                 \n",
      "                                                                 \n",
      " conv2d_2 (Conv2D)           (None, 21, 21, 64)        36928     \n",
      "                                                                 \n",
      " max_pooling2d_2 (MaxPooling  (None, 10, 10, 64)       0         \n",
      " 2D)                                                             \n",
      "                                                                 \n",
      " conv2d_3 (Conv2D)           (None, 10, 10, 128)       73856     \n",
      "                                                                 \n",
      " max_pooling2d_3 (MaxPooling  (None, 5, 5, 128)        0         \n",
      " 2D)                                                             \n",
      "                                                                 \n",
      " batch_normalization_2 (Batc  (None, 5, 5, 128)        512       \n",
      " hNormalization)                                                 \n",
      "                                                                 \n",
      " conv2d_4 (Conv2D)           (None, 5, 5, 128)         147584    \n",
      "                                                                 \n",
      " max_pooling2d_4 (MaxPooling  (None, 2, 2, 128)        0         \n",
      " 2D)                                                             \n",
      "                                                                 \n",
      " batch_normalization_3 (Batc  (None, 2, 2, 128)        512       \n",
      " hNormalization)                                                 \n",
      "                                                                 \n",
      " conv2d_5 (Conv2D)           (None, 2, 2, 256)         295168    \n",
      "                                                                 \n",
      " max_pooling2d_5 (MaxPooling  (None, 1, 1, 256)        0         \n",
      " 2D)                                                             \n",
      "                                                                 \n",
      " batch_normalization_4 (Batc  (None, 1, 1, 256)        1024      \n",
      " hNormalization)                                                 \n",
      "                                                                 \n",
      " conv2d_6 (Conv2D)           (None, 1, 1, 512)         1180160   \n",
      "                                                                 \n",
      " batch_normalization_5 (Batc  (None, 1, 1, 512)        2048      \n",
      " hNormalization)                                                 \n",
      "                                                                 \n",
      " flatten (Flatten)           (None, 512)               0         \n",
      "                                                                 \n",
      " dense (Dense)               (None, 512)               262656    \n",
      "                                                                 \n",
      " dropout (Dropout)           (None, 512)               0         \n",
      "                                                                 \n",
      " dense_1 (Dense)             (None, 512)               262656    \n",
      "                                                                 \n",
      " dropout_1 (Dropout)         (None, 512)               0         \n",
      "                                                                 \n",
      " dense_2 (Dense)             (None, 3)                 1539      \n",
      "                                                                 \n",
      "=================================================================\n",
      "Total params: 2,284,419\n",
      "Trainable params: 2,282,179\n",
      "Non-trainable params: 2,240\n",
      "_________________________________________________________________\n"
     ]
    }
   ],
   "source": [
    "model.summary()"
   ]
  },
  {
   "cell_type": "code",
   "execution_count": 12,
   "id": "a4f855fd",
   "metadata": {
    "pycharm": {
     "name": "#%%\n"
    }
   },
   "outputs": [],
   "source": [
    "opt = tf.keras.optimizers.Adam(learning_rate = 0.00001)"
   ]
  },
  {
   "cell_type": "code",
   "execution_count": 13,
   "id": "4f478ddd",
   "metadata": {
    "pycharm": {
     "name": "#%%\n"
    }
   },
   "outputs": [],
   "source": [
    "model.compile(optimizer=opt, loss='binary_crossentropy', metrics=['accuracy'])"
   ]
  },
  {
   "cell_type": "code",
   "execution_count": 14,
   "id": "f9dc819e",
   "metadata": {
    "pycharm": {
     "name": "#%%\n"
    }
   },
   "outputs": [],
   "source": [
    "# Define a callback to save checkpoints during training\n",
    "checkpoint_callback = tf.keras.callbacks.ModelCheckpoint(filepath='checkpoints/cervical_cancer_screening_model-{epoch:02d}.h5',\n",
    "                                                         monitor='val_loss',\n",
    "                                                         verbose=1,\n",
    "                                                         save_best_only=True,\n",
    "                                                         save_weights_only=True,\n",
    "                                                         mode='auto')"
   ]
  },
  {
   "cell_type": "code",
   "execution_count": 12,
   "id": "319cde05",
   "metadata": {
    "pycharm": {
     "name": "#%%\n"
    }
   },
   "outputs": [
    {
     "name": "stdout",
     "output_type": "stream",
     "text": [
      "Model: \"sequential\"\n",
      "_________________________________________________________________\n",
      " Layer (type)                Output Shape              Param #   \n",
      "=================================================================\n",
      " vgg16 (Functional)          (None, 8, 8, 512)         14714688  \n",
      "                                                                 \n",
      " flatten (Flatten)           (None, 32768)             0         \n",
      "                                                                 \n",
      " dense (Dense)               (None, 512)               16777728  \n",
      "                                                                 \n",
      " dropout (Dropout)           (None, 512)               0         \n",
      "                                                                 \n",
      " dense_1 (Dense)             (None, 3)                 1539      \n",
      "                                                                 \n",
      "=================================================================\n",
      "Total params: 31,493,955\n",
      "Trainable params: 16,779,267\n",
      "Non-trainable params: 14,714,688\n",
      "_________________________________________________________________\n"
     ]
    }
   ],
   "source": [
    "model.summary()"
   ]
  },
  {
   "cell_type": "markdown",
   "id": "8d8aa041",
   "metadata": {
    "pycharm": {
     "name": "#%% md\n"
    }
   },
   "source": [
    "# Training the model"
   ]
  },
  {
   "cell_type": "code",
   "execution_count": 15,
   "id": "7a97f3df",
   "metadata": {
    "pycharm": {
     "name": "#%%\n"
    }
   },
   "outputs": [],
   "source": [
    "logdir='logs'"
   ]
  },
  {
   "cell_type": "code",
   "execution_count": 16,
   "id": "cae6e3cb",
   "metadata": {
    "pycharm": {
     "name": "#%%\n"
    }
   },
   "outputs": [],
   "source": [
    "tensorboard_callback = tf.keras.callbacks.TensorBoard(log_dir=logdir)"
   ]
  },
  {
   "cell_type": "code",
   "execution_count": null,
   "id": "712857ea",
   "metadata": {
    "pycharm": {
     "is_executing": true,
     "name": "#%%\n"
    }
   },
   "outputs": [
    {
     "name": "stdout",
     "output_type": "stream",
     "text": [
      "Epoch 1/30\n",
      "110/110 [==============================] - ETA: 0s - loss: 1.2229 - accuracy: 0.3600\n",
      "Epoch 1: val_loss improved from inf to 1.07933, saving model to checkpoints\\cervical_cancer_screening_model-01.h5\n",
      "110/110 [==============================] - 828s 7s/step - loss: 1.2229 - accuracy: 0.3600 - val_loss: 1.0793 - val_accuracy: 0.3548\n",
      "Epoch 2/30\n",
      "110/110 [==============================] - ETA: 0s - loss: 1.1364 - accuracy: 0.3777\n",
      "Epoch 2: val_loss improved from 1.07933 to 1.03983, saving model to checkpoints\\cervical_cancer_screening_model-02.h5\n",
      "110/110 [==============================] - 593s 5s/step - loss: 1.1364 - accuracy: 0.3777 - val_loss: 1.0398 - val_accuracy: 0.3559\n",
      "Epoch 3/30\n",
      "110/110 [==============================] - ETA: 0s - loss: 1.0947 - accuracy: 0.3989\n",
      "Epoch 3: val_loss improved from 1.03983 to 1.01476, saving model to checkpoints\\cervical_cancer_screening_model-03.h5\n",
      "110/110 [==============================] - 733s 7s/step - loss: 1.0947 - accuracy: 0.3989 - val_loss: 1.0148 - val_accuracy: 0.3490\n",
      "Epoch 4/30\n",
      "110/110 [==============================] - ETA: 0s - loss: 1.0802 - accuracy: 0.4006\n",
      "Epoch 4: val_loss improved from 1.01476 to 1.00067, saving model to checkpoints\\cervical_cancer_screening_model-04.h5\n",
      "110/110 [==============================] - 576s 5s/step - loss: 1.0802 - accuracy: 0.4006 - val_loss: 1.0007 - val_accuracy: 0.3571\n",
      "Epoch 5/30\n",
      "110/110 [==============================] - ETA: 0s - loss: 1.0501 - accuracy: 0.4290\n",
      "Epoch 5: val_loss improved from 1.00067 to 0.98365, saving model to checkpoints\\cervical_cancer_screening_model-05.h5\n",
      "110/110 [==============================] - 619s 6s/step - loss: 1.0501 - accuracy: 0.4290 - val_loss: 0.9836 - val_accuracy: 0.3961\n",
      "Epoch 6/30\n",
      "110/110 [==============================] - ETA: 0s - loss: 1.0264 - accuracy: 0.4367\n",
      "Epoch 6: val_loss improved from 0.98365 to 0.97002, saving model to checkpoints\\cervical_cancer_screening_model-06.h5\n",
      "110/110 [==============================] - 834s 8s/step - loss: 1.0264 - accuracy: 0.4367 - val_loss: 0.9700 - val_accuracy: 0.4259\n",
      "Epoch 7/30\n",
      "110/110 [==============================] - ETA: 0s - loss: 1.0172 - accuracy: 0.4396\n",
      "Epoch 7: val_loss improved from 0.97002 to 0.95897, saving model to checkpoints\\cervical_cancer_screening_model-07.h5\n",
      "110/110 [==============================] - 559s 5s/step - loss: 1.0172 - accuracy: 0.4396 - val_loss: 0.9590 - val_accuracy: 0.4328\n",
      "Epoch 8/30\n",
      "110/110 [==============================] - ETA: 0s - loss: 0.9880 - accuracy: 0.4519\n",
      "Epoch 8: val_loss improved from 0.95897 to 0.94827, saving model to checkpoints\\cervical_cancer_screening_model-08.h5\n",
      "110/110 [==============================] - 576s 5s/step - loss: 0.9880 - accuracy: 0.4519 - val_loss: 0.9483 - val_accuracy: 0.4363\n",
      "Epoch 9/30\n",
      "110/110 [==============================] - ETA: 0s - loss: 0.9788 - accuracy: 0.4602\n",
      "Epoch 9: val_loss improved from 0.94827 to 0.94038, saving model to checkpoints\\cervical_cancer_screening_model-09.h5\n",
      "110/110 [==============================] - 578s 5s/step - loss: 0.9788 - accuracy: 0.4602 - val_loss: 0.9404 - val_accuracy: 0.4397\n",
      "Epoch 10/30\n",
      "110/110 [==============================] - ETA: 0s - loss: 0.9687 - accuracy: 0.4722\n",
      "Epoch 10: val_loss improved from 0.94038 to 0.93526, saving model to checkpoints\\cervical_cancer_screening_model-10.h5\n",
      "110/110 [==============================] - 621s 6s/step - loss: 0.9687 - accuracy: 0.4722 - val_loss: 0.9353 - val_accuracy: 0.4443\n",
      "Epoch 11/30\n",
      "110/110 [==============================] - ETA: 0s - loss: 0.9542 - accuracy: 0.4903\n",
      "Epoch 11: val_loss improved from 0.93526 to 0.92517, saving model to checkpoints\\cervical_cancer_screening_model-11.h5\n",
      "110/110 [==============================] - 575s 5s/step - loss: 0.9542 - accuracy: 0.4903 - val_loss: 0.9252 - val_accuracy: 0.4512\n",
      "Epoch 12/30\n",
      "110/110 [==============================] - ETA: 0s - loss: 0.9350 - accuracy: 0.4974\n",
      "Epoch 12: val_loss improved from 0.92517 to 0.91553, saving model to checkpoints\\cervical_cancer_screening_model-12.h5\n",
      "110/110 [==============================] - 578s 5s/step - loss: 0.9350 - accuracy: 0.4974 - val_loss: 0.9155 - val_accuracy: 0.4581\n",
      "Epoch 13/30\n",
      "110/110 [==============================] - ETA: 0s - loss: 0.9228 - accuracy: 0.4974\n",
      "Epoch 13: val_loss improved from 0.91553 to 0.91038, saving model to checkpoints\\cervical_cancer_screening_model-13.h5\n",
      "110/110 [==============================] - 620s 6s/step - loss: 0.9228 - accuracy: 0.4974 - val_loss: 0.9104 - val_accuracy: 0.4546\n",
      "Epoch 14/30\n",
      "110/110 [==============================] - ETA: 0s - loss: 0.9152 - accuracy: 0.5049\n",
      "Epoch 14: val_loss improved from 0.91038 to 0.90335, saving model to checkpoints\\cervical_cancer_screening_model-14.h5\n",
      "110/110 [==============================] - 563s 5s/step - loss: 0.9152 - accuracy: 0.5049 - val_loss: 0.9033 - val_accuracy: 0.4650\n",
      "Epoch 15/30\n",
      "110/110 [==============================] - ETA: 0s - loss: 0.8933 - accuracy: 0.5269\n",
      "Epoch 15: val_loss improved from 0.90335 to 0.89673, saving model to checkpoints\\cervical_cancer_screening_model-15.h5\n",
      "110/110 [==============================] - 558s 5s/step - loss: 0.8933 - accuracy: 0.5269 - val_loss: 0.8967 - val_accuracy: 0.4707\n",
      "Epoch 16/30\n",
      "110/110 [==============================] - ETA: 0s - loss: 0.8920 - accuracy: 0.5172\n",
      "Epoch 16: val_loss improved from 0.89673 to 0.89088, saving model to checkpoints\\cervical_cancer_screening_model-16.h5\n",
      "110/110 [==============================] - 561s 5s/step - loss: 0.8920 - accuracy: 0.5172 - val_loss: 0.8909 - val_accuracy: 0.4765\n",
      "Epoch 17/30\n",
      "110/110 [==============================] - ETA: 0s - loss: 0.8724 - accuracy: 0.5389\n",
      "Epoch 17: val_loss improved from 0.89088 to 0.88603, saving model to checkpoints\\cervical_cancer_screening_model-17.h5\n",
      "110/110 [==============================] - 560s 5s/step - loss: 0.8724 - accuracy: 0.5389 - val_loss: 0.8860 - val_accuracy: 0.4856\n",
      "Epoch 18/30\n",
      "110/110 [==============================] - ETA: 0s - loss: 0.8648 - accuracy: 0.5550\n",
      "Epoch 18: val_loss improved from 0.88603 to 0.88036, saving model to checkpoints\\cervical_cancer_screening_model-18.h5\n",
      "110/110 [==============================] - 558s 5s/step - loss: 0.8648 - accuracy: 0.5550 - val_loss: 0.8804 - val_accuracy: 0.4891\n",
      "Epoch 19/30\n",
      "110/110 [==============================] - ETA: 0s - loss: 0.8635 - accuracy: 0.5475\n",
      "Epoch 19: val_loss improved from 0.88036 to 0.87474, saving model to checkpoints\\cervical_cancer_screening_model-19.h5\n",
      "110/110 [==============================] - 887s 8s/step - loss: 0.8635 - accuracy: 0.5475 - val_loss: 0.8747 - val_accuracy: 0.4960\n",
      "Epoch 20/30\n",
      "110/110 [==============================] - ETA: 0s - loss: 0.8469 - accuracy: 0.5624\n",
      "Epoch 20: val_loss improved from 0.87474 to 0.87185, saving model to checkpoints\\cervical_cancer_screening_model-20.h5\n",
      "110/110 [==============================] - 705s 6s/step - loss: 0.8469 - accuracy: 0.5624 - val_loss: 0.8718 - val_accuracy: 0.5063\n",
      "Epoch 21/30\n",
      "110/110 [==============================] - ETA: 0s - loss: 0.8415 - accuracy: 0.5716\n",
      "Epoch 21: val_loss improved from 0.87185 to 0.87030, saving model to checkpoints\\cervical_cancer_screening_model-21.h5\n",
      "110/110 [==============================] - 647s 6s/step - loss: 0.8415 - accuracy: 0.5716 - val_loss: 0.8703 - val_accuracy: 0.5017\n",
      "Epoch 22/30\n",
      " 98/110 [=========================>....] - ETA: 8:22 - loss: 0.8326 - accuracy: 0.5840"
     ]
    }
   ],
   "source": [
    "hist =  model.fit(train_set, epochs=30, validation_data=valid_set, callbacks=[tensorboard_callback,checkpoint_callback])"
   ]
  },
  {
   "cell_type": "markdown",
   "id": "9fe4530c",
   "metadata": {
    "pycharm": {
     "name": "#%% md\n"
    }
   },
   "source": [
    "# Perfomance Plots"
   ]
  },
  {
   "cell_type": "code",
   "execution_count": 34,
   "id": "df197e08",
   "metadata": {
    "pycharm": {
     "name": "#%%\n"
    }
   },
   "outputs": [
    {
     "name": "stdout",
     "output_type": "stream",
     "text": [
      "Epoch 0: loss = 1.200248122215271, accuracy = 0.36741122603416443\n",
      "Epoch 1: loss = 1.0614964962005615, accuracy = 0.4616265892982483\n",
      "Epoch 2: loss = 1.0017882585525513, accuracy = 0.48883160948753357\n",
      "Epoch 3: loss = 0.9473465085029602, accuracy = 0.5337915420532227\n",
      "Epoch 4: loss = 0.901477038860321, accuracy = 0.5730240345001221\n",
      "Epoch 5: loss = 0.8686233758926392, accuracy = 0.5933562517166138\n",
      "Epoch 6: loss = 0.8374066948890686, accuracy = 0.6145475506782532\n",
      "Epoch 7: loss = 0.8059887290000916, accuracy = 0.6360251903533936\n",
      "Epoch 8: loss = 0.7723921537399292, accuracy = 0.6715349555015564\n",
      "Epoch 9: loss = 0.7431354522705078, accuracy = 0.7033218741416931\n",
      "Epoch 10: loss = 0.7298892140388489, accuracy = 0.7004581689834595\n",
      "Epoch 11: loss = 0.6994192600250244, accuracy = 0.7310996651649475\n",
      "Epoch 12: loss = 0.6704004406929016, accuracy = 0.7563000917434692\n",
      "Epoch 13: loss = 0.6511445045471191, accuracy = 0.7766323089599609\n",
      "Epoch 14: loss = 0.6256935596466064, accuracy = 0.7978236079216003\n",
      "Epoch 15: loss = 0.6033785939216614, accuracy = 0.8227376937866211\n",
      "Epoch 16: loss = 0.5844432711601257, accuracy = 0.8296105265617371\n",
      "Epoch 17: loss = 0.5606642365455627, accuracy = 0.8499427437782288\n",
      "Epoch 18: loss = 0.5375146865844727, accuracy = 0.8665521144866943\n",
      "Epoch 19: loss = 0.5189950466156006, accuracy = 0.8788659572601318\n"
     ]
    }
   ],
   "source": [
    "history = model.history\n",
    "\n",
    "for epoch in range(len(history.history['loss'])):\n",
    "    loss = history.history['loss'][epoch]\n",
    "    accuracy = history.history['accuracy'][epoch]\n",
    "    print(f'Epoch {epoch}: loss = {loss}, accuracy = {accuracy}')"
   ]
  },
  {
   "cell_type": "code",
   "execution_count": 35,
   "id": "dacd55d8",
   "metadata": {
    "pycharm": {
     "name": "#%%\n"
    }
   },
   "outputs": [
    {
     "data": {
      "image/png": "[encoded data removed]",
      "text/plain": [
       "<Figure size 640x480 with 1 Axes>"
      ]
     },
     "metadata": {},
     "output_type": "display_data"
    }
   ],
   "source": [
    "fig = plt.figure()\n",
    "plt.plot(hist.history['loss'], color='teal', label='loss')\n",
    "plt.plot(hist.history['val_loss'], color='orange', label='val_loss')\n",
    "fig.suptitle('Loss', fontsize=20)\n",
    "plt.legend(loc=\"upper left\")\n",
    "plt.show()"
   ]
  },
  {
   "cell_type": "markdown",
   "id": "9521e0fb",
   "metadata": {
    "pycharm": {
     "name": "#%% md\n"
    }
   },
   "source": [
    "# Evaluation"
   ]
  },
  {
   "cell_type": "code",
   "execution_count": 18,
   "id": "ea81107a",
   "metadata": {
    "pycharm": {
     "name": "#%%\n"
    }
   },
   "outputs": [],
   "source": [
    "# Load the weights from the last saved checkpoint\n",
    "model.load_weights('checkpoints/cervical_cancer_screening_model-17.h5')"
   ]
  },
  {
   "cell_type": "code",
   "execution_count": 42,
   "id": "2f3c7011",
   "metadata": {
    "collapsed": false,
    "jupyter": {
     "outputs_hidden": false
    },
    "pycharm": {
     "name": "#%%\n"
    }
   },
   "outputs": [
    {
     "name": "stdout",
     "output_type": "stream",
     "text": [
      "3/3 [==============================] - 18s 7s/step\n"
     ]
    },
    {
     "data": {
      "image/png": "[encoded data removed]",
      "text/plain": [
       "<Figure size 640x480 with 2 Axes>"
      ]
     },
     "metadata": {},
     "output_type": "display_data"
    }
   ],
   "source": [
    "# Get the predicted classes for the test set\n",
    "y_pred = model.predict(test_set)\n",
    "y_pred_classes = np.argmax(y_pred, axis=1)\n",
    "\n",
    "# Create the confusion matrix\n",
    "conf_matrix = confusion_matrix(test_set.classes, y_pred_classes, labels=None)\n",
    "\n",
    "# Define the class labels\n",
    "class_names = ['Negative', 'Positive','Suspected']\n",
    "\n",
    "# Plot the confusion matrix\n",
    "plt.imshow(conf_matrix, cmap=plt.cm.Blues)\n",
    "plt.title('Confusion Matrix')\n",
    "plt.colorbar()\n",
    "tick_marks = np.arange(len(class_names))\n",
    "plt.xticks(tick_marks, class_names, rotation=45)\n",
    "plt.yticks(tick_marks, class_names)\n",
    "fmt = 'd'\n",
    "thresh = conf_matrix.max() / 2.\n",
    "for i, j in itertools.product(range(conf_matrix.shape[0]), range(conf_matrix.shape[1])):\n",
    "    plt.text(j, i, format(conf_matrix[i, j], fmt),\n",
    "             horizontalalignment=\"center\",\n",
    "             color=\"white\" if conf_matrix[i, j] > thresh else \"black\")\n",
    "plt.ylabel('True label')\n",
    "plt.xlabel('Predicted label')\n",
    "plt.tight_layout()\n",
    "plt.savefig('confusion_matrix.pdf',format='pdf',bbox_inches='tight')\n",
    "plt.show()"
   ]
  },
  {
   "cell_type": "code",
   "execution_count": 20,
   "id": "99025911",
   "metadata": {
    "pycharm": {
     "name": "#%%\n"
    }
   },
   "outputs": [
    {
     "name": "stdout",
     "output_type": "stream",
     "text": [
      "Accuracy: 73.4694\n",
      "Precision: 67.6471\n",
      "Recall: 92.0\n",
      "F-Score: 77.9661\n"
     ]
    }
   ],
   "source": [
    "# Calculate true positives, false positives, true negatives, and false negatives from the confusion matrix\n",
    "tp = conf_matrix[1,1]\n",
    "fp = conf_matrix[0,1]\n",
    "tn = conf_matrix[0,0]\n",
    "fn = conf_matrix[1,0]\n",
    "\n",
    "# Calculate accuracy precision and recall\n",
    "Accuracy = (tp+tn)/(tp+fp+tn+fn)\n",
    "precision = tp / (tp + fp)\n",
    "recall = tp / (tp + fn)\n",
    "F_Score = 2*((precision*recall)/(precision+recall))\n",
    "\n",
    "print('Accuracy:', np.round(Accuracy *100,4))\n",
    "print('Precision:', np.round(precision*100,4))\n",
    "print('Recall:', np.round(recall*100,4))\n",
    "print('F-Score:', np.round(F_Score*100,4))"
   ]
  },
  {
   "cell_type": "code",
   "execution_count": 44,
   "id": "c300d894",
   "metadata": {
    "pycharm": {
     "name": "#%%\n"
    }
   },
   "outputs": [
    {
     "name": "stdout",
     "output_type": "stream",
     "text": [
      "Accuracy: 82.7434\n",
      "Precision: 80.9129\n",
      "Recall: 85.9031\n",
      "F-Score: 83.3333\n"
     ]
    }
   ],
   "source": [
    "# Calculate true positives, false positives, true negatives, and false negatives from the confusion matrix\n",
    "tp = 195\n",
    "fp = 46\n",
    "tn = 179\n",
    "fn = 32\n",
    "\n",
    "# Calculate accuracy precision and recall\n",
    "Accuracy = (tp+tn)/(tp+fp+tn+fn)\n",
    "precision = tp / (tp + fp)\n",
    "recall = tp / (tp + fn)\n",
    "F_Score = 2*((precision*recall)/(precision+recall))\n",
    "\n",
    "print('Accuracy:', np.round(Accuracy *100,4))\n",
    "print('Precision:', np.round(precision*100,4))\n",
    "print('Recall:', np.round(recall*100,4))\n",
    "print('F-Score:', np.round(F_Score*100,4))"
   ]
  },
  {
   "cell_type": "code",
   "execution_count": 29,
   "id": "9c8f9c72",
   "metadata": {
    "pycharm": {
     "name": "#%%\n"
    }
   },
   "outputs": [
    {
     "name": "stdout",
     "output_type": "stream",
     "text": [
      "29/29 [==============================] - 55s 2s/step\n",
      "AUC score: 0.9599420471454303\n"
     ]
    }
   ],
   "source": [
    "# Get the predicted probabilities\n",
    "y_pred_prob = model.predict(test_set)\n",
    "\n",
    "# Check the shape of the predicted probabilities\n",
    "if y_pred_prob.ndim > 1 and y_pred_prob.shape[1] > 1:\n",
    "    # Get the predicted probabilities for the positive class\n",
    "    y_pred_prob = y_pred_prob[:, 1]\n",
    "\n",
    "# Compute the AUC score\n",
    "auc_score = roc_auc_score(y_true, y_pred_prob)\n",
    "\n",
    "# Print the AUC score\n",
    "print('AUC score:', auc_score)"
   ]
  },
  {
   "cell_type": "code",
   "execution_count": 39,
   "id": "b3b3cb1b",
   "metadata": {
    "pycharm": {
     "name": "#%%\n"
    }
   },
   "outputs": [],
   "source": [
    "fpr, tpr, thresholds = roc_curve(y_true, y_pred_prob)"
   ]
  },
  {
   "cell_type": "code",
   "execution_count": 56,
   "id": "360e0b7f",
   "metadata": {
    "pycharm": {
     "name": "#%%\n"
    }
   },
   "outputs": [
    {
     "data": {
      "image/png": "[encoded data removed]",
      "text/plain": [
       "<Figure size 640x480 with 1 Axes>"
      ]
     },
     "metadata": {},
     "output_type": "display_data"
    }
   ],
   "source": [
    "# plot ROC curve\n",
    "plt.plot(fpr, tpr, label='ROC Curve (area = 0.96)')\n",
    "plt.plot([0, 1], [0, 1], linestyle='--')\n",
    "plt.xlabel('False Positive Rate')\n",
    "plt.ylabel('True Positive Rate')\n",
    "plt.legend(loc='lower right')\n",
    "plt.savefig('AUC.pdf',format='pdf',bbox_inches='tight')\n",
    "plt.show()"
   ]
  },
  {
   "cell_type": "markdown",
   "id": "1708572f",
   "metadata": {
    "pycharm": {
     "name": "#%% md\n"
    }
   },
   "source": [
    "# Saving the model to json format"
   ]
  },
  {
   "cell_type": "code",
   "execution_count": 46,
   "id": "aab3b8ec",
   "metadata": {
    "pycharm": {
     "name": "#%%\n"
    }
   },
   "outputs": [],
   "source": [
    "model_json = model.to_json()\n",
    "with open(\"model.json\",\"w\") as json_file:\n",
    "    json_file.write(model_json)"
   ]
  },
  {
   "cell_type": "markdown",
   "id": "3d6891db",
   "metadata": {
    "pycharm": {
     "name": "#%% md\n"
    }
   },
   "source": [
    "# Testing the Model"
   ]
  },
  {
   "cell_type": "markdown",
   "id": "11466f53",
   "metadata": {
    "pycharm": {
     "name": "#%% md\n"
    }
   },
   "source": [
    "# Saving the Model for deployment"
   ]
  },
  {
   "cell_type": "code",
   "execution_count": 37,
   "id": "f2c34852",
   "metadata": {
    "pycharm": {
     "name": "#%%\n"
    }
   },
   "outputs": [],
   "source": [
    "model.save(os.path.join('models','cervical_cancer_image_classifier.h5'))"
   ]
  },
  {
   "cell_type": "code",
   "execution_count": 48,
   "id": "fbeb5fac",
   "metadata": {
    "pycharm": {
     "name": "#%%\n"
    }
   },
   "outputs": [],
   "source": [
    "new_model = load_model('./models/cervical_cancer_image_classifier.h5')"
   ]
  },
  {
   "cell_type": "code",
   "execution_count": 51,
   "id": "cfa8c493",
   "metadata": {
    "pycharm": {
     "name": "#%%\n"
    }
   },
   "outputs": [
    {
     "name": "stdout",
     "output_type": "stream",
     "text": [
      "1/1 [==============================] - 0s 119ms/step\n",
      "Predicted class: Negative\n"
     ]
    }
   ],
   "source": [
    "from tensorflow.keras.preprocessing import image\n",
    "# Load the image and resize it to the required size for the model\n",
    "img = image.load_img('data_set/Positive/4225.jpg', target_size=(256, 256))\n",
    "\n",
    "# Convert the image to a numpy array\n",
    "img_array = image.img_to_array(img)\n",
    "\n",
    "# Expand the dimensions of the array to match the input shape of the model\n",
    "img_array = np.expand_dims(img_array, axis=0)\n",
    "\n",
    "# Normalize the pixel values to be between 0 and 1\n",
    "img_array = img_array / 255.0\n",
    "\n",
    "# Make a prediction using the model\n",
    "preds = new_model.predict(img_array)\n",
    "\n",
    "# Get the index of the class with the highest probability\n",
    "class_idx = np.argmax(preds, axis=1)[0]\n",
    "\n",
    "# Define a list of class labels\n",
    "class_labels = ['Negative', 'Positive','Suspected']\n",
    "\n",
    "# Get the corresponding class label for the predicted class index\n",
    "class_label = class_labels[class_idx]\n",
    "\n",
    "# Print the predicted class label\n",
    "print('Predicted class:', class_label)\n"
   ]
  }
 ],
 "metadata": {
  "kernelspec": {
   "display_name": "Python 3 (ipykernel)",
   "language": "python",
   "name": "python3"
  },
  "language_info": {
   "codemirror_mode": {
    "name": "ipython",
    "version": 3
   },
   "file_extension": ".py",
   "mimetype": "text/x-python",
   "name": "python",
   "nbconvert_exporter": "python",
   "pygments_lexer": "ipython3",
   "version": "3.9.13"
  }
 },
 "nbformat": 4,
 "nbformat_minor": 5
}
